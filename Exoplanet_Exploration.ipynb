{
 "cells": [
  {
   "cell_type": "markdown",
   "metadata": {
    "id": "qILh2qBwRuER"
   },
   "source": [
    "<h1>Exoplanet Exploration</h1>"
   ]
  },
  {
   "cell_type": "code",
   "execution_count": 1,
   "metadata": {
    "id": "n6vKtsrsSM7f"
   },
   "outputs": [],
   "source": [
    "import numpy as np\n",
    "import matplotlib.pyplot as plt\n",
    "import pandas as pd\n",
    "import seaborn as sns\n",
    "import plotly.express as px\n",
    "import scipy.stats as stats"
   ]
  },
  {
   "cell_type": "markdown",
   "metadata": {
    "id": "LJPZ6IVc-xiF"
   },
   "source": [
    "<h2><b>Goal for Exoplanet Exploration EDA</b></h2>\n",
    "Our main goal is to analyze and understand the properties of discovered exoplanets to uncover patterns related to:\n",
    "\n",
    "Habitability – What makes an exoplanet potentially habitable?\\\n",
    "Planetary Characteristics – How do size, mass, and orbit affect exoplanets?\\\n",
    "Discovery Methods – How have scientists detected exoplanets over time?\n"
   ]
  },
  {
   "cell_type": "code",
   "execution_count": 2,
   "metadata": {
    "id": "1AvwzFDf04PR"
   },
   "outputs": [],
   "source": [
    "pd.set_option(\"display.max_rows\", 20)"
   ]
  },
  {
   "cell_type": "code",
   "execution_count": 3,
   "metadata": {
    "id": "s7Y6O9bwSZah"
   },
   "outputs": [],
   "source": [
    "exoplanet_file = \"exoplanets.csv\""
   ]
  },
  {
   "cell_type": "code",
   "execution_count": 4,
   "metadata": {
    "id": "POGDU7aMW67L"
   },
   "outputs": [],
   "source": [
    "df = pd.read_csv(exoplanet_file)"
   ]
  },
  {
   "cell_type": "code",
   "execution_count": 5,
   "metadata": {
    "colab": {
     "base_uri": "https://localhost:8080/"
    },
    "id": "gonqycN50Qdk",
    "outputId": "76bb1080-b392-4ff5-a909-870369cc8745"
   },
   "outputs": [
    {
     "data": {
      "text/plain": [
       "(5834, 84)"
      ]
     },
     "execution_count": 5,
     "metadata": {},
     "output_type": "execute_result"
    }
   ],
   "source": [
    "df.shape"
   ]
  },
  {
   "cell_type": "code",
   "execution_count": 6,
   "metadata": {
    "colab": {
     "base_uri": "https://localhost:8080/"
    },
    "id": "Tn_c8P3WYBx-",
    "outputId": "39d14643-d09e-4adf-82c1-57ca96c0d07e"
   },
   "outputs": [
    {
     "data": {
      "text/plain": [
       "Index(['pl_name', 'hostname', 'sy_snum', 'sy_pnum', 'discoverymethod',\n",
       "       'disc_year', 'disc_facility', 'pl_controv_flag', 'pl_orbper',\n",
       "       'pl_orbpererr1', 'pl_orbpererr2', 'pl_orbperlim', 'pl_orbsmax',\n",
       "       'pl_orbsmaxerr1', 'pl_orbsmaxerr2', 'pl_orbsmaxlim', 'pl_rade',\n",
       "       'pl_radeerr1', 'pl_radeerr2', 'pl_radelim', 'pl_radj', 'pl_radjerr1',\n",
       "       'pl_radjerr2', 'pl_radjlim', 'pl_bmasse', 'pl_bmasseerr1',\n",
       "       'pl_bmasseerr2', 'pl_bmasselim', 'pl_bmassj', 'pl_bmassjerr1',\n",
       "       'pl_bmassjerr2', 'pl_bmassjlim', 'pl_bmassprov', 'pl_orbeccen',\n",
       "       'pl_orbeccenerr1', 'pl_orbeccenerr2', 'pl_orbeccenlim', 'pl_insol',\n",
       "       'pl_insolerr1', 'pl_insolerr2', 'pl_insollim', 'pl_eqt', 'pl_eqterr1',\n",
       "       'pl_eqterr2', 'pl_eqtlim', 'ttv_flag', 'st_spectype', 'st_teff',\n",
       "       'st_tefferr1', 'st_tefferr2', 'st_tefflim', 'st_rad', 'st_raderr1',\n",
       "       'st_raderr2', 'st_radlim', 'st_mass', 'st_masserr1', 'st_masserr2',\n",
       "       'st_masslim', 'st_met', 'st_meterr1', 'st_meterr2', 'st_metlim',\n",
       "       'st_metratio', 'st_logg', 'st_loggerr1', 'st_loggerr2', 'st_logglim',\n",
       "       'rastr', 'ra', 'decstr', 'dec', 'sy_dist', 'sy_disterr1', 'sy_disterr2',\n",
       "       'sy_vmag', 'sy_vmagerr1', 'sy_vmagerr2', 'sy_kmag', 'sy_kmagerr1',\n",
       "       'sy_kmagerr2', 'sy_gaiamag', 'sy_gaiamagerr1', 'sy_gaiamagerr2'],\n",
       "      dtype='object')"
      ]
     },
     "execution_count": 6,
     "metadata": {},
     "output_type": "execute_result"
    }
   ],
   "source": [
    "df.columns"
   ]
  },
  {
   "cell_type": "code",
   "execution_count": 7,
   "metadata": {
    "colab": {
     "base_uri": "https://localhost:8080/"
    },
    "id": "lN8mG5kY0WMD",
    "outputId": "ae54076c-9522-4794-fe84-74b3ed66cf4c"
   },
   "outputs": [
    {
     "name": "stdout",
     "output_type": "stream",
     "text": [
      "<class 'pandas.core.frame.DataFrame'>\n",
      "RangeIndex: 5834 entries, 0 to 5833\n",
      "Data columns (total 84 columns):\n",
      " #   Column           Non-Null Count  Dtype  \n",
      "---  ------           --------------  -----  \n",
      " 0   pl_name          5834 non-null   object \n",
      " 1   hostname         5834 non-null   object \n",
      " 2   sy_snum          5834 non-null   int64  \n",
      " 3   sy_pnum          5834 non-null   int64  \n",
      " 4   discoverymethod  5834 non-null   object \n",
      " 5   disc_year        5834 non-null   int64  \n",
      " 6   disc_facility    5834 non-null   object \n",
      " 7   pl_controv_flag  5834 non-null   int64  \n",
      " 8   pl_orbper        5548 non-null   float64\n",
      " 9   pl_orbpererr1    5051 non-null   float64\n",
      " 10  pl_orbpererr2    5051 non-null   float64\n",
      " 11  pl_orbperlim     5548 non-null   float64\n",
      " 12  pl_orbsmax       5550 non-null   float64\n",
      " 13  pl_orbsmaxerr1   3607 non-null   float64\n",
      " 14  pl_orbsmaxerr2   3607 non-null   float64\n",
      " 15  pl_orbsmaxlim    5551 non-null   float64\n",
      " 16  pl_rade          5813 non-null   float64\n",
      " 17  pl_radeerr1      4033 non-null   float64\n",
      " 18  pl_radeerr2      4033 non-null   float64\n",
      " 19  pl_radelim       5813 non-null   float64\n",
      " 20  pl_radj          5813 non-null   float64\n",
      " 21  pl_radjerr1      4033 non-null   float64\n",
      " 22  pl_radjerr2      4033 non-null   float64\n",
      " 23  pl_radjlim       5813 non-null   float64\n",
      " 24  pl_bmasse        5804 non-null   float64\n",
      " 25  pl_bmasseerr1    2699 non-null   float64\n",
      " 26  pl_bmasseerr2    2699 non-null   float64\n",
      " 27  pl_bmasselim     5804 non-null   float64\n",
      " 28  pl_bmassj        5804 non-null   float64\n",
      " 29  pl_bmassjerr1    2699 non-null   float64\n",
      " 30  pl_bmassjerr2    2699 non-null   float64\n",
      " 31  pl_bmassjlim     5804 non-null   float64\n",
      " 32  pl_bmassprov     5834 non-null   object \n",
      " 33  pl_orbeccen      4990 non-null   float64\n",
      " 34  pl_orbeccenerr1  1728 non-null   float64\n",
      " 35  pl_orbeccenerr2  1728 non-null   float64\n",
      " 36  pl_orbeccenlim   4990 non-null   float64\n",
      " 37  pl_insol         4075 non-null   float64\n",
      " 38  pl_insolerr1     3456 non-null   float64\n",
      " 39  pl_insolerr2     3456 non-null   float64\n",
      " 40  pl_insollim      4075 non-null   float64\n",
      " 41  pl_eqt           4337 non-null   float64\n",
      " 42  pl_eqterr1       1571 non-null   float64\n",
      " 43  pl_eqterr2       1571 non-null   float64\n",
      " 44  pl_eqtlim        4337 non-null   float64\n",
      " 45  ttv_flag         5834 non-null   int64  \n",
      " 46  st_spectype      2053 non-null   object \n",
      " 47  st_teff          5585 non-null   float64\n",
      " 48  st_tefferr1      5385 non-null   float64\n",
      " 49  st_tefferr2      5363 non-null   float64\n",
      " 50  st_tefflim       5585 non-null   float64\n",
      " 51  st_rad           5563 non-null   float64\n",
      " 52  st_raderr1       5404 non-null   float64\n",
      " 53  st_raderr2       5387 non-null   float64\n",
      " 54  st_radlim        5563 non-null   float64\n",
      " 55  st_mass          5827 non-null   float64\n",
      " 56  st_masserr1      5554 non-null   float64\n",
      " 57  st_masserr2      5535 non-null   float64\n",
      " 58  st_masslim       5827 non-null   float64\n",
      " 59  st_met           5336 non-null   float64\n",
      " 60  st_meterr1       5036 non-null   float64\n",
      " 61  st_meterr2       5036 non-null   float64\n",
      " 62  st_metlim        5336 non-null   float64\n",
      " 63  st_metratio      5309 non-null   object \n",
      " 64  st_logg          5558 non-null   float64\n",
      " 65  st_loggerr1      5376 non-null   float64\n",
      " 66  st_loggerr2      5376 non-null   float64\n",
      " 67  st_logglim       5558 non-null   float64\n",
      " 68  rastr            5834 non-null   object \n",
      " 69  ra               5834 non-null   float64\n",
      " 70  decstr           5834 non-null   object \n",
      " 71  dec              5834 non-null   float64\n",
      " 72  sy_dist          5809 non-null   float64\n",
      " 73  sy_disterr1      5703 non-null   float64\n",
      " 74  sy_disterr2      5703 non-null   float64\n",
      " 75  sy_vmag          5585 non-null   float64\n",
      " 76  sy_vmagerr1      5577 non-null   float64\n",
      " 77  sy_vmagerr2      5571 non-null   float64\n",
      " 78  sy_kmag          5594 non-null   float64\n",
      " 79  sy_kmagerr1      5557 non-null   float64\n",
      " 80  sy_kmagerr2      5545 non-null   float64\n",
      " 81  sy_gaiamag       5537 non-null   float64\n",
      " 82  sy_gaiamagerr1   5536 non-null   float64\n",
      " 83  sy_gaiamagerr2   5536 non-null   float64\n",
      "dtypes: float64(70), int64(5), object(9)\n",
      "memory usage: 3.7+ MB\n"
     ]
    }
   ],
   "source": [
    "#Column, data type and null count\n",
    "df.info()"
   ]
  },
  {
   "cell_type": "code",
   "execution_count": 8,
   "metadata": {
    "colab": {
     "base_uri": "https://localhost:8080/",
     "height": 350
    },
    "id": "uPQ-mEsCa7Dn",
    "outputId": "12bbbff5-764b-4e3f-969c-accf1a259a47"
   },
   "outputs": [
    {
     "data": {
      "text/html": [
       "<div>\n",
       "<style scoped>\n",
       "    .dataframe tbody tr th:only-of-type {\n",
       "        vertical-align: middle;\n",
       "    }\n",
       "\n",
       "    .dataframe tbody tr th {\n",
       "        vertical-align: top;\n",
       "    }\n",
       "\n",
       "    .dataframe thead th {\n",
       "        text-align: right;\n",
       "    }\n",
       "</style>\n",
       "<table border=\"1\" class=\"dataframe\">\n",
       "  <thead>\n",
       "    <tr style=\"text-align: right;\">\n",
       "      <th></th>\n",
       "      <th>sy_snum</th>\n",
       "      <th>sy_pnum</th>\n",
       "      <th>disc_year</th>\n",
       "      <th>pl_controv_flag</th>\n",
       "      <th>pl_orbper</th>\n",
       "      <th>pl_orbpererr1</th>\n",
       "      <th>pl_orbpererr2</th>\n",
       "      <th>pl_orbperlim</th>\n",
       "      <th>pl_orbsmax</th>\n",
       "      <th>pl_orbsmaxerr1</th>\n",
       "      <th>...</th>\n",
       "      <th>sy_disterr2</th>\n",
       "      <th>sy_vmag</th>\n",
       "      <th>sy_vmagerr1</th>\n",
       "      <th>sy_vmagerr2</th>\n",
       "      <th>sy_kmag</th>\n",
       "      <th>sy_kmagerr1</th>\n",
       "      <th>sy_kmagerr2</th>\n",
       "      <th>sy_gaiamag</th>\n",
       "      <th>sy_gaiamagerr1</th>\n",
       "      <th>sy_gaiamagerr2</th>\n",
       "    </tr>\n",
       "  </thead>\n",
       "  <tbody>\n",
       "    <tr>\n",
       "      <th>count</th>\n",
       "      <td>5834.000000</td>\n",
       "      <td>5834.000000</td>\n",
       "      <td>5834.000000</td>\n",
       "      <td>5834.000000</td>\n",
       "      <td>5.548000e+03</td>\n",
       "      <td>5.051000e+03</td>\n",
       "      <td>5.051000e+03</td>\n",
       "      <td>5548.000000</td>\n",
       "      <td>5550.000000</td>\n",
       "      <td>3607.000000</td>\n",
       "      <td>...</td>\n",
       "      <td>5703.000000</td>\n",
       "      <td>5585.000000</td>\n",
       "      <td>5577.000000</td>\n",
       "      <td>5571.000000</td>\n",
       "      <td>5594.000000</td>\n",
       "      <td>5557.000000</td>\n",
       "      <td>5545.000000</td>\n",
       "      <td>5537.000000</td>\n",
       "      <td>5536.000000</td>\n",
       "      <td>5536.000000</td>\n",
       "    </tr>\n",
       "    <tr>\n",
       "      <th>mean</th>\n",
       "      <td>1.104731</td>\n",
       "      <td>1.764484</td>\n",
       "      <td>2016.542681</td>\n",
       "      <td>0.005314</td>\n",
       "      <td>7.710407e+04</td>\n",
       "      <td>9.475059e+04</td>\n",
       "      <td>-2.163951e+04</td>\n",
       "      <td>-0.000721</td>\n",
       "      <td>15.834914</td>\n",
       "      <td>1.871818</td>\n",
       "      <td>...</td>\n",
       "      <td>-60.689212</td>\n",
       "      <td>12.594259</td>\n",
       "      <td>0.100159</td>\n",
       "      <td>-0.101744</td>\n",
       "      <td>10.449720</td>\n",
       "      <td>0.042337</td>\n",
       "      <td>-0.042358</td>\n",
       "      <td>12.307125</td>\n",
       "      <td>0.000641</td>\n",
       "      <td>-0.000641</td>\n",
       "    </tr>\n",
       "    <tr>\n",
       "      <th>std</th>\n",
       "      <td>0.346670</td>\n",
       "      <td>1.147482</td>\n",
       "      <td>4.716838</td>\n",
       "      <td>0.072707</td>\n",
       "      <td>5.399589e+06</td>\n",
       "      <td>6.613486e+06</td>\n",
       "      <td>1.409155e+06</td>\n",
       "      <td>0.037970</td>\n",
       "      <td>357.392607</td>\n",
       "      <td>86.851550</td>\n",
       "      <td>...</td>\n",
       "      <td>259.124091</td>\n",
       "      <td>3.084443</td>\n",
       "      <td>0.138101</td>\n",
       "      <td>0.206021</td>\n",
       "      <td>3.016353</td>\n",
       "      <td>0.259487</td>\n",
       "      <td>0.265551</td>\n",
       "      <td>2.981747</td>\n",
       "      <td>0.001811</td>\n",
       "      <td>0.001811</td>\n",
       "    </tr>\n",
       "    <tr>\n",
       "      <th>min</th>\n",
       "      <td>1.000000</td>\n",
       "      <td>1.000000</td>\n",
       "      <td>1992.000000</td>\n",
       "      <td>0.000000</td>\n",
       "      <td>9.070629e-02</td>\n",
       "      <td>0.000000e+00</td>\n",
       "      <td>-1.000000e+08</td>\n",
       "      <td>-1.000000</td>\n",
       "      <td>0.004400</td>\n",
       "      <td>0.000000</td>\n",
       "      <td>...</td>\n",
       "      <td>-2840.000000</td>\n",
       "      <td>0.872000</td>\n",
       "      <td>0.001000</td>\n",
       "      <td>-11.920000</td>\n",
       "      <td>-3.044000</td>\n",
       "      <td>0.011000</td>\n",
       "      <td>-9.995000</td>\n",
       "      <td>2.364310</td>\n",
       "      <td>0.000118</td>\n",
       "      <td>-0.063232</td>\n",
       "    </tr>\n",
       "    <tr>\n",
       "      <th>25%</th>\n",
       "      <td>1.000000</td>\n",
       "      <td>1.000000</td>\n",
       "      <td>2014.000000</td>\n",
       "      <td>0.000000</td>\n",
       "      <td>4.387966e+00</td>\n",
       "      <td>1.302000e-05</td>\n",
       "      <td>-1.520000e-03</td>\n",
       "      <td>0.000000</td>\n",
       "      <td>0.052700</td>\n",
       "      <td>0.000700</td>\n",
       "      <td>...</td>\n",
       "      <td>-17.075000</td>\n",
       "      <td>10.710000</td>\n",
       "      <td>0.030000</td>\n",
       "      <td>-0.126000</td>\n",
       "      <td>8.432500</td>\n",
       "      <td>0.020000</td>\n",
       "      <td>-0.031000</td>\n",
       "      <td>10.425300</td>\n",
       "      <td>0.000257</td>\n",
       "      <td>-0.000538</td>\n",
       "    </tr>\n",
       "    <tr>\n",
       "      <th>50%</th>\n",
       "      <td>1.000000</td>\n",
       "      <td>1.000000</td>\n",
       "      <td>2016.000000</td>\n",
       "      <td>0.000000</td>\n",
       "      <td>1.128770e+01</td>\n",
       "      <td>8.943000e-05</td>\n",
       "      <td>-9.000000e-05</td>\n",
       "      <td>0.000000</td>\n",
       "      <td>0.102310</td>\n",
       "      <td>0.001900</td>\n",
       "      <td>...</td>\n",
       "      <td>-4.255000</td>\n",
       "      <td>13.386000</td>\n",
       "      <td>0.080000</td>\n",
       "      <td>-0.080000</td>\n",
       "      <td>11.281500</td>\n",
       "      <td>0.023000</td>\n",
       "      <td>-0.023000</td>\n",
       "      <td>13.109200</td>\n",
       "      <td>0.000364</td>\n",
       "      <td>-0.000364</td>\n",
       "    </tr>\n",
       "    <tr>\n",
       "      <th>75%</th>\n",
       "      <td>1.000000</td>\n",
       "      <td>2.000000</td>\n",
       "      <td>2021.000000</td>\n",
       "      <td>0.000000</td>\n",
       "      <td>4.000765e+01</td>\n",
       "      <td>1.500000e-03</td>\n",
       "      <td>-1.341000e-05</td>\n",
       "      <td>0.000000</td>\n",
       "      <td>0.300000</td>\n",
       "      <td>0.016000</td>\n",
       "      <td>...</td>\n",
       "      <td>-0.481100</td>\n",
       "      <td>14.981000</td>\n",
       "      <td>0.126000</td>\n",
       "      <td>-0.030000</td>\n",
       "      <td>12.798250</td>\n",
       "      <td>0.031000</td>\n",
       "      <td>-0.020000</td>\n",
       "      <td>14.742900</td>\n",
       "      <td>0.000538</td>\n",
       "      <td>-0.000257</td>\n",
       "    </tr>\n",
       "    <tr>\n",
       "      <th>max</th>\n",
       "      <td>4.000000</td>\n",
       "      <td>8.000000</td>\n",
       "      <td>2025.000000</td>\n",
       "      <td>1.000000</td>\n",
       "      <td>4.020000e+08</td>\n",
       "      <td>4.700000e+08</td>\n",
       "      <td>0.000000e+00</td>\n",
       "      <td>1.000000</td>\n",
       "      <td>19000.000000</td>\n",
       "      <td>5205.000000</td>\n",
       "      <td>...</td>\n",
       "      <td>-0.000350</td>\n",
       "      <td>44.610000</td>\n",
       "      <td>3.100000</td>\n",
       "      <td>-0.001000</td>\n",
       "      <td>33.110000</td>\n",
       "      <td>9.995000</td>\n",
       "      <td>-0.011000</td>\n",
       "      <td>20.186100</td>\n",
       "      <td>0.063232</td>\n",
       "      <td>-0.000118</td>\n",
       "    </tr>\n",
       "  </tbody>\n",
       "</table>\n",
       "<p>8 rows × 75 columns</p>\n",
       "</div>"
      ],
      "text/plain": [
       "           sy_snum      sy_pnum    disc_year  pl_controv_flag     pl_orbper  \\\n",
       "count  5834.000000  5834.000000  5834.000000      5834.000000  5.548000e+03   \n",
       "mean      1.104731     1.764484  2016.542681         0.005314  7.710407e+04   \n",
       "std       0.346670     1.147482     4.716838         0.072707  5.399589e+06   \n",
       "min       1.000000     1.000000  1992.000000         0.000000  9.070629e-02   \n",
       "25%       1.000000     1.000000  2014.000000         0.000000  4.387966e+00   \n",
       "50%       1.000000     1.000000  2016.000000         0.000000  1.128770e+01   \n",
       "75%       1.000000     2.000000  2021.000000         0.000000  4.000765e+01   \n",
       "max       4.000000     8.000000  2025.000000         1.000000  4.020000e+08   \n",
       "\n",
       "       pl_orbpererr1  pl_orbpererr2  pl_orbperlim    pl_orbsmax  \\\n",
       "count   5.051000e+03   5.051000e+03   5548.000000   5550.000000   \n",
       "mean    9.475059e+04  -2.163951e+04     -0.000721     15.834914   \n",
       "std     6.613486e+06   1.409155e+06      0.037970    357.392607   \n",
       "min     0.000000e+00  -1.000000e+08     -1.000000      0.004400   \n",
       "25%     1.302000e-05  -1.520000e-03      0.000000      0.052700   \n",
       "50%     8.943000e-05  -9.000000e-05      0.000000      0.102310   \n",
       "75%     1.500000e-03  -1.341000e-05      0.000000      0.300000   \n",
       "max     4.700000e+08   0.000000e+00      1.000000  19000.000000   \n",
       "\n",
       "       pl_orbsmaxerr1  ...  sy_disterr2      sy_vmag  sy_vmagerr1  \\\n",
       "count     3607.000000  ...  5703.000000  5585.000000  5577.000000   \n",
       "mean         1.871818  ...   -60.689212    12.594259     0.100159   \n",
       "std         86.851550  ...   259.124091     3.084443     0.138101   \n",
       "min          0.000000  ... -2840.000000     0.872000     0.001000   \n",
       "25%          0.000700  ...   -17.075000    10.710000     0.030000   \n",
       "50%          0.001900  ...    -4.255000    13.386000     0.080000   \n",
       "75%          0.016000  ...    -0.481100    14.981000     0.126000   \n",
       "max       5205.000000  ...    -0.000350    44.610000     3.100000   \n",
       "\n",
       "       sy_vmagerr2      sy_kmag  sy_kmagerr1  sy_kmagerr2   sy_gaiamag  \\\n",
       "count  5571.000000  5594.000000  5557.000000  5545.000000  5537.000000   \n",
       "mean     -0.101744    10.449720     0.042337    -0.042358    12.307125   \n",
       "std       0.206021     3.016353     0.259487     0.265551     2.981747   \n",
       "min     -11.920000    -3.044000     0.011000    -9.995000     2.364310   \n",
       "25%      -0.126000     8.432500     0.020000    -0.031000    10.425300   \n",
       "50%      -0.080000    11.281500     0.023000    -0.023000    13.109200   \n",
       "75%      -0.030000    12.798250     0.031000    -0.020000    14.742900   \n",
       "max      -0.001000    33.110000     9.995000    -0.011000    20.186100   \n",
       "\n",
       "       sy_gaiamagerr1  sy_gaiamagerr2  \n",
       "count     5536.000000     5536.000000  \n",
       "mean         0.000641       -0.000641  \n",
       "std          0.001811        0.001811  \n",
       "min          0.000118       -0.063232  \n",
       "25%          0.000257       -0.000538  \n",
       "50%          0.000364       -0.000364  \n",
       "75%          0.000538       -0.000257  \n",
       "max          0.063232       -0.000118  \n",
       "\n",
       "[8 rows x 75 columns]"
      ]
     },
     "execution_count": 8,
     "metadata": {},
     "output_type": "execute_result"
    }
   ],
   "source": [
    "#basic statistics\n",
    "df.describe()"
   ]
  },
  {
   "cell_type": "code",
   "execution_count": 9,
   "metadata": {
    "colab": {
     "base_uri": "https://localhost:8080/",
     "height": 458
    },
    "id": "rEvBKeRh0iLG",
    "outputId": "21a97a2d-92cf-43ad-8830-64e80ddbfbdf"
   },
   "outputs": [
    {
     "data": {
      "text/plain": [
       "pl_name              0\n",
       "hostname             0\n",
       "sy_snum              0\n",
       "sy_pnum              0\n",
       "discoverymethod      0\n",
       "                  ... \n",
       "sy_kmagerr1        277\n",
       "sy_kmagerr2        289\n",
       "sy_gaiamag         297\n",
       "sy_gaiamagerr1     298\n",
       "sy_gaiamagerr2     298\n",
       "Length: 84, dtype: int64"
      ]
     },
     "execution_count": 9,
     "metadata": {},
     "output_type": "execute_result"
    }
   ],
   "source": [
    "#total missing values\n",
    "df.isnull().sum()"
   ]
  },
  {
   "cell_type": "code",
   "execution_count": 10,
   "metadata": {
    "colab": {
     "base_uri": "https://localhost:8080/"
    },
    "id": "jmttBY9j3zgq",
    "outputId": "76c777bb-9862-40f9-d9c6-9615639a9f02"
   },
   "outputs": [
    {
     "data": {
      "text/plain": [
       "Index(['pl_bmasseerr1', 'pl_bmasseerr2', 'pl_bmassjerr1', 'pl_bmassjerr2',\n",
       "       'pl_orbeccenerr1', 'pl_orbeccenerr2', 'pl_insolerr1', 'pl_insolerr2',\n",
       "       'pl_eqterr1', 'pl_eqterr2', 'st_spectype'],\n",
       "      dtype='object')"
      ]
     },
     "execution_count": 10,
     "metadata": {},
     "output_type": "execute_result"
    }
   ],
   "source": [
    "null_threshold = 0.4\n",
    "cols_to_drop = df.isna().sum()/len(df) > null_threshold\n",
    "cols_to_drop = cols_to_drop[cols_to_drop == True].index\n",
    "cols_to_drop"
   ]
  },
  {
   "cell_type": "code",
   "execution_count": 11,
   "metadata": {
    "colab": {
     "base_uri": "https://localhost:8080/"
    },
    "id": "-r6BivcG3HjD",
    "outputId": "0529ee3d-8a74-4360-97b0-73b1e6f56472"
   },
   "outputs": [
    {
     "data": {
      "text/plain": [
       "(5834, 73)"
      ]
     },
     "execution_count": 11,
     "metadata": {},
     "output_type": "execute_result"
    }
   ],
   "source": [
    "#remove columns with more than 50% of missing values\n",
    "\n",
    "df = df.drop(columns=cols_to_drop)\n",
    "df.shape"
   ]
  },
  {
   "cell_type": "code",
   "execution_count": 12,
   "metadata": {
    "colab": {
     "base_uri": "https://localhost:8080/"
    },
    "id": "AkJsdNdY5uD9",
    "outputId": "f60a96d7-4d82-44cc-d85e-5a7e98ed5c59"
   },
   "outputs": [
    {
     "data": {
      "text/plain": [
       "Index(['pl_orbper', 'pl_orbpererr1', 'pl_orbpererr2', 'pl_orbperlim',\n",
       "       'pl_orbsmax', 'pl_orbsmaxerr1', 'pl_orbsmaxerr2', 'pl_orbsmaxlim',\n",
       "       'pl_rade', 'pl_radeerr1', 'pl_radeerr2', 'pl_radelim', 'pl_radj',\n",
       "       'pl_radjerr1', 'pl_radjerr2', 'pl_radjlim', 'pl_bmasse', 'pl_bmasselim',\n",
       "       'pl_bmassj', 'pl_bmassjlim', 'pl_orbeccen', 'pl_orbeccenlim',\n",
       "       'pl_insol', 'pl_insollim', 'pl_eqt', 'pl_eqtlim', 'st_teff',\n",
       "       'st_tefferr1', 'st_tefferr2', 'st_tefflim', 'st_rad', 'st_raderr1',\n",
       "       'st_raderr2', 'st_radlim', 'st_mass', 'st_masserr1', 'st_masserr2',\n",
       "       'st_masslim', 'st_met', 'st_meterr1', 'st_meterr2', 'st_metlim',\n",
       "       'st_metratio', 'st_logg', 'st_loggerr1', 'st_loggerr2', 'st_logglim',\n",
       "       'sy_dist', 'sy_disterr1', 'sy_disterr2', 'sy_vmag', 'sy_vmagerr1',\n",
       "       'sy_vmagerr2', 'sy_kmag', 'sy_kmagerr1', 'sy_kmagerr2', 'sy_gaiamag',\n",
       "       'sy_gaiamagerr1', 'sy_gaiamagerr2'],\n",
       "      dtype='object')"
      ]
     },
     "execution_count": 12,
     "metadata": {},
     "output_type": "execute_result"
    }
   ],
   "source": [
    "#find columns with a certain missing percentage of data\n",
    "\n",
    "missing_percentage = df.isna().sum()/len(df.index)*100\n",
    "data_missing_columns = missing_percentage[missing_percentage > 0].index\n",
    "data_missing_columns\n"
   ]
  },
  {
   "cell_type": "code",
   "execution_count": 13,
   "metadata": {
    "colab": {
     "base_uri": "https://localhost:8080/"
    },
    "id": "5_uwfJpn8U5K",
    "outputId": "22454af1-b076-4cbf-8d45-031a8cf6bcf8"
   },
   "outputs": [
    {
     "data": {
      "text/plain": [
       "Index(['st_metratio'], dtype='object')"
      ]
     },
     "execution_count": 13,
     "metadata": {},
     "output_type": "execute_result"
    }
   ],
   "source": [
    "#checking whether the data_missing_columns are categorical or numerical\n",
    "data_types = df[data_missing_columns].dtypes\n",
    "\n",
    "#checking for numerical data\n",
    "num = data_missing_columns[(data_types == np.float64)| (data_types == np.int64)]\n",
    "\n",
    "#checking for non-numerical data\n",
    "nnum = data_missing_columns[data_types == \"object\"]\n",
    "nnum\n"
   ]
  },
  {
   "cell_type": "code",
   "execution_count": 14,
   "metadata": {
    "colab": {
     "base_uri": "https://localhost:8080/",
     "height": 178
    },
    "id": "2azE5xl9FuuD",
    "outputId": "980e9ca3-7edf-4311-b71a-ff3e3ab7289e"
   },
   "outputs": [
    {
     "data": {
      "text/plain": [
       "st_metratio\n",
       "[Fe/H]         4774\n",
       "[M/H]           535\n",
       "Name: count, dtype: int64"
      ]
     },
     "execution_count": 14,
     "metadata": {},
     "output_type": "execute_result"
    }
   ],
   "source": [
    "#checking for inconsistencies in categorical value\n",
    "df[nnum].value_counts()"
   ]
  },
  {
   "cell_type": "markdown",
   "metadata": {
    "id": "lJ2hOZK4DayW"
   },
   "source": [
    "Out of the columns with missing data only st_metratio (Stellar metallicity Ratio) is a categorical data and must be imputed as such with two values"
   ]
  },
  {
   "cell_type": "code",
   "execution_count": 15,
   "metadata": {
    "colab": {
     "base_uri": "https://localhost:8080/"
    },
    "id": "mCCGJpmvFl7q",
    "outputId": "eef28e55-d6e7-47cd-986b-5f2ebfb65467"
   },
   "outputs": [
    {
     "data": {
      "text/plain": [
       "Index(['pl_name', 'hostname', 'sy_snum', 'sy_pnum', 'discoverymethod',\n",
       "       'disc_year', 'disc_facility', 'pl_controv_flag', 'pl_bmassprov',\n",
       "       'ttv_flag', 'rastr', 'ra', 'decstr', 'dec'],\n",
       "      dtype='object')"
      ]
     },
     "execution_count": 15,
     "metadata": {},
     "output_type": "execute_result"
    }
   ],
   "source": [
    "#all the columns in our dataframe without any missing values\n",
    "\n",
    "full_columns = missing_percentage[missing_percentage == 0].index\n",
    "full_columns"
   ]
  },
  {
   "cell_type": "code",
   "execution_count": 16,
   "metadata": {
    "colab": {
     "base_uri": "https://localhost:8080/",
     "height": 206
    },
    "id": "Q5KW8hnIahDR",
    "outputId": "b4aec653-d623-4385-946a-42831d0b50a5"
   },
   "outputs": [
    {
     "data": {
      "text/html": [
       "<div>\n",
       "<style scoped>\n",
       "    .dataframe tbody tr th:only-of-type {\n",
       "        vertical-align: middle;\n",
       "    }\n",
       "\n",
       "    .dataframe tbody tr th {\n",
       "        vertical-align: top;\n",
       "    }\n",
       "\n",
       "    .dataframe thead th {\n",
       "        text-align: right;\n",
       "    }\n",
       "</style>\n",
       "<table border=\"1\" class=\"dataframe\">\n",
       "  <thead>\n",
       "    <tr style=\"text-align: right;\">\n",
       "      <th></th>\n",
       "      <th>pl_name</th>\n",
       "      <th>hostname</th>\n",
       "      <th>sy_snum</th>\n",
       "      <th>sy_pnum</th>\n",
       "      <th>discoverymethod</th>\n",
       "      <th>disc_year</th>\n",
       "      <th>disc_facility</th>\n",
       "      <th>pl_controv_flag</th>\n",
       "      <th>pl_bmassprov</th>\n",
       "      <th>ttv_flag</th>\n",
       "      <th>rastr</th>\n",
       "      <th>ra</th>\n",
       "      <th>decstr</th>\n",
       "      <th>dec</th>\n",
       "    </tr>\n",
       "  </thead>\n",
       "  <tbody>\n",
       "    <tr>\n",
       "      <th>0</th>\n",
       "      <td>11 Com b</td>\n",
       "      <td>11 Com</td>\n",
       "      <td>2</td>\n",
       "      <td>1</td>\n",
       "      <td>Radial Velocity</td>\n",
       "      <td>2007</td>\n",
       "      <td>Xinglong Station</td>\n",
       "      <td>0</td>\n",
       "      <td>Msini</td>\n",
       "      <td>0</td>\n",
       "      <td>12h20m42.91s</td>\n",
       "      <td>185.178779</td>\n",
       "      <td>+17d47m35.71s</td>\n",
       "      <td>17.793252</td>\n",
       "    </tr>\n",
       "    <tr>\n",
       "      <th>1</th>\n",
       "      <td>11 UMi b</td>\n",
       "      <td>11 UMi</td>\n",
       "      <td>1</td>\n",
       "      <td>1</td>\n",
       "      <td>Radial Velocity</td>\n",
       "      <td>2009</td>\n",
       "      <td>Thueringer Landessternwarte Tautenburg</td>\n",
       "      <td>0</td>\n",
       "      <td>Msini</td>\n",
       "      <td>0</td>\n",
       "      <td>15h17m05.90s</td>\n",
       "      <td>229.274595</td>\n",
       "      <td>+71d49m26.19s</td>\n",
       "      <td>71.823943</td>\n",
       "    </tr>\n",
       "    <tr>\n",
       "      <th>2</th>\n",
       "      <td>14 And b</td>\n",
       "      <td>14 And</td>\n",
       "      <td>1</td>\n",
       "      <td>1</td>\n",
       "      <td>Radial Velocity</td>\n",
       "      <td>2008</td>\n",
       "      <td>Okayama Astrophysical Observatory</td>\n",
       "      <td>0</td>\n",
       "      <td>Msini</td>\n",
       "      <td>0</td>\n",
       "      <td>23h31m17.80s</td>\n",
       "      <td>352.824150</td>\n",
       "      <td>+39d14m09.01s</td>\n",
       "      <td>39.235837</td>\n",
       "    </tr>\n",
       "    <tr>\n",
       "      <th>3</th>\n",
       "      <td>14 Her b</td>\n",
       "      <td>14 Her</td>\n",
       "      <td>1</td>\n",
       "      <td>2</td>\n",
       "      <td>Radial Velocity</td>\n",
       "      <td>2002</td>\n",
       "      <td>W. M. Keck Observatory</td>\n",
       "      <td>0</td>\n",
       "      <td>Mass</td>\n",
       "      <td>0</td>\n",
       "      <td>16h10m24.50s</td>\n",
       "      <td>242.602101</td>\n",
       "      <td>+43d48m58.90s</td>\n",
       "      <td>43.816362</td>\n",
       "    </tr>\n",
       "    <tr>\n",
       "      <th>4</th>\n",
       "      <td>16 Cyg B b</td>\n",
       "      <td>16 Cyg B</td>\n",
       "      <td>3</td>\n",
       "      <td>1</td>\n",
       "      <td>Radial Velocity</td>\n",
       "      <td>1996</td>\n",
       "      <td>Multiple Observatories</td>\n",
       "      <td>0</td>\n",
       "      <td>Msini</td>\n",
       "      <td>0</td>\n",
       "      <td>19h41m51.75s</td>\n",
       "      <td>295.465642</td>\n",
       "      <td>+50d31m00.57s</td>\n",
       "      <td>50.516824</td>\n",
       "    </tr>\n",
       "  </tbody>\n",
       "</table>\n",
       "</div>"
      ],
      "text/plain": [
       "      pl_name  hostname  sy_snum  sy_pnum  discoverymethod  disc_year  \\\n",
       "0    11 Com b    11 Com        2        1  Radial Velocity       2007   \n",
       "1    11 UMi b    11 UMi        1        1  Radial Velocity       2009   \n",
       "2    14 And b    14 And        1        1  Radial Velocity       2008   \n",
       "3    14 Her b    14 Her        1        2  Radial Velocity       2002   \n",
       "4  16 Cyg B b  16 Cyg B        3        1  Radial Velocity       1996   \n",
       "\n",
       "                            disc_facility  pl_controv_flag pl_bmassprov  \\\n",
       "0                        Xinglong Station                0        Msini   \n",
       "1  Thueringer Landessternwarte Tautenburg                0        Msini   \n",
       "2       Okayama Astrophysical Observatory                0        Msini   \n",
       "3                  W. M. Keck Observatory                0         Mass   \n",
       "4                  Multiple Observatories                0        Msini   \n",
       "\n",
       "   ttv_flag         rastr          ra         decstr        dec  \n",
       "0         0  12h20m42.91s  185.178779  +17d47m35.71s  17.793252  \n",
       "1         0  15h17m05.90s  229.274595  +71d49m26.19s  71.823943  \n",
       "2         0  23h31m17.80s  352.824150  +39d14m09.01s  39.235837  \n",
       "3         0  16h10m24.50s  242.602101  +43d48m58.90s  43.816362  \n",
       "4         0  19h41m51.75s  295.465642  +50d31m00.57s  50.516824  "
      ]
     },
     "execution_count": 16,
     "metadata": {},
     "output_type": "execute_result"
    }
   ],
   "source": [
    "#full columns exploration\n",
    "df[full_columns].head()"
   ]
  },
  {
   "cell_type": "code",
   "execution_count": 17,
   "metadata": {
    "colab": {
     "base_uri": "https://localhost:8080/"
    },
    "id": "_UIv8t1HbUG9",
    "outputId": "6f0f7e86-2485-449f-b362-f95d7fad9d4d"
   },
   "outputs": [
    {
     "name": "stdout",
     "output_type": "stream",
     "text": [
      "['Radial Velocity' 'Imaging' 'Eclipse Timing Variations' 'Transit'\n",
      " 'Transit Timing Variations' 'Astrometry' 'Microlensing' 'Disk Kinematics'\n",
      " 'Orbital Brightness Modulation' 'Pulsation Timing Variations'\n",
      " 'Pulsar Timing'] ['Msini' 'Mass' 'Msin(i)/sin(i)' 'M-R relationship']\n"
     ]
    }
   ],
   "source": [
    "#checking for inconsistencies in our categorical variables: case errors, spelling error, etc\n",
    "print(df['discoverymethod'].unique(),df['pl_bmassprov'].unique())"
   ]
  },
  {
   "cell_type": "markdown",
   "metadata": {
    "id": "9jIihyIHTwHV"
   },
   "source": [
    "<h2>Handling missing data</h2>"
   ]
  },
  {
   "cell_type": "code",
   "execution_count": 18,
   "metadata": {
    "id": "3ntYhiQlhs_b"
   },
   "outputs": [],
   "source": [
    "#filling all flag columns in dataframe with 0 because we're unsure about it\n",
    "\n",
    "\"\"\"\n",
    "# COLUMN pl_controv_flag: Controversial Flag\n",
    "# COLUMN pl_orbperlim:   Orbital Period Limit Flag\n",
    "# COLUMN pl_orbsmaxlim:  Orbit Semi-Major Axis Limit Flag\n",
    "# COLUMN pl_radelim:     Planet Radius Limit Flag\n",
    "# COLUMN pl_radjlim:     Planet Radius Limit Flag\n",
    "# COLUMN pl_bmasselim:   Planet Mass or Mass*sin(i) [Earth Mass] Limit Flag\n",
    "# COLUMN pl_bmassjlim:   Planet Mass or Mass*sin(i) [Jupiter Mass] Limit Flag\n",
    "# COLUMN pl_orbeccenlim: Eccentricity Limit Flag\n",
    "# COLUMN pl_insollim:    Insolation Flux Limit Flag\n",
    "# COLUMN pl_eqtlim:      Equilibrium Temperature Limit Flag\n",
    "# COLUMN st_tefflim:     Stellar Effective Temperature Limit Flag\n",
    "# COLUMN st_radlim:      Stellar Radius Limit Flag\n",
    "# COLUMN st_masslim:     Stellar Mass Limit Flag\n",
    "# COLUMN st_metlim:      Stellar Metallicity Limit Flag\n",
    "# COLUMN st_logglim:     Stellar Surface Gravity Limit Flag\n",
    "\"\"\"\n",
    "\n",
    "flag_columns = [\n",
    "'pl_controv_flag',\n",
    "'pl_orbperlim',\n",
    "'pl_orbsmaxlim',\n",
    "'pl_radelim',\n",
    "'pl_radjlim',\n",
    "'pl_bmasselim',\n",
    "'pl_bmassjlim',\n",
    "'pl_orbeccenlim',\n",
    "'pl_insollim',\n",
    "'pl_eqtlim',\n",
    "'st_tefflim',\n",
    "'st_radlim',\n",
    "'st_masslim',\n",
    "'st_metlim',\n",
    "'st_logglim',\n",
    "]\n",
    "\n",
    "\n"
   ]
  },
  {
   "cell_type": "code",
   "execution_count": 19,
   "metadata": {
    "colab": {
     "base_uri": "https://localhost:8080/"
    },
    "id": "B_XrTX1mCuHz",
    "outputId": "75ed13f2-1f18-4d54-d302-c0d84fb13b24"
   },
   "outputs": [
    {
     "name": "stdout",
     "output_type": "stream",
     "text": [
      "pl_controv_flag [0 1]\n",
      "pl_orbperlim [ 0. nan -1.  1.]\n",
      "pl_orbsmaxlim [ 0. nan -1.]\n",
      "pl_radelim [ 0. nan -1.]\n",
      "pl_radjlim [ 0. nan -1.]\n",
      "pl_bmasselim [ 0.  1. -1. nan]\n",
      "pl_bmassjlim [ 0.  1. -1. nan]\n",
      "pl_orbeccenlim [ 0. nan  1. -1.]\n",
      "pl_insollim [nan  0.]\n",
      "pl_eqtlim [nan  0.  1.]\n",
      "st_tefflim [ 0. nan  1.]\n",
      "st_radlim [ 0. nan]\n",
      "st_masslim [ 0. nan]\n",
      "st_metlim [ 0. nan -1.  1.]\n",
      "st_logglim [ 0. nan -1.]\n"
     ]
    }
   ],
   "source": [
    "#Checking unique values in our flag columns:\n",
    "\n",
    "for col in flag_columns:\n",
    "  print(col,df[col].unique())"
   ]
  },
  {
   "cell_type": "code",
   "execution_count": 20,
   "metadata": {
    "id": "0PucWpBWDHA6"
   },
   "outputs": [],
   "source": [
    "#filling with value 0\n",
    "df.loc[:, flag_columns] = df.loc[:, flag_columns].fillna(0)"
   ]
  },
  {
   "cell_type": "code",
   "execution_count": 21,
   "metadata": {
    "colab": {
     "base_uri": "https://localhost:8080/",
     "height": 554
    },
    "id": "tTu12ZkXT3gP",
    "outputId": "92f8b6d2-efca-4081-cb61-af36457b1f7f"
   },
   "outputs": [
    {
     "data": {
      "text/plain": [
       "pl_controv_flag    0\n",
       "pl_orbperlim       0\n",
       "pl_orbsmaxlim      0\n",
       "pl_radelim         0\n",
       "pl_radjlim         0\n",
       "pl_bmasselim       0\n",
       "pl_bmassjlim       0\n",
       "pl_orbeccenlim     0\n",
       "pl_insollim        0\n",
       "pl_eqtlim          0\n",
       "st_tefflim         0\n",
       "st_radlim          0\n",
       "st_masslim         0\n",
       "st_metlim          0\n",
       "st_logglim         0\n",
       "dtype: int64"
      ]
     },
     "execution_count": 21,
     "metadata": {},
     "output_type": "execute_result"
    }
   ],
   "source": [
    "#Checking for missing values in flag columns\n",
    "\n",
    "df[flag_columns].isna().sum()"
   ]
  },
  {
   "cell_type": "code",
   "execution_count": 22,
   "metadata": {
    "colab": {
     "base_uri": "https://localhost:8080/",
     "height": 35
    },
    "id": "MvDP2ejMtHip",
    "outputId": "9fe191b1-c2a7-46a1-a829-c45fbbcf6665"
   },
   "outputs": [
    {
     "data": {
      "text/plain": [
       "'9.09 %'"
      ]
     },
     "execution_count": 22,
     "metadata": {},
     "output_type": "execute_result"
    }
   ],
   "source": [
    "# handling missing numerical data\n",
    "\n",
    "# check skewness and then decide to impute either on median or mean\n",
    "\n",
    "skewness = np.array([stats.skew(df[col].to_numpy(),nan_policy='omit') for col in num if col not in flag_columns])\n",
    "\n",
    "#variables having very less skewness\n",
    "ls_skew = skewness[(skewness < 1) & (skewness > -1)]\n",
    "\n",
    "f\"{len(ls_skew)/len(skewness) * 100:.2f} %\""
   ]
  },
  {
   "cell_type": "markdown",
   "metadata": {
    "id": "yC4l3whvtbOs"
   },
   "source": [
    "Only **9.09%** of the total numerical data is have <u>minimal</u> skew, therefore we'll be using **median** values to fill up the missing values.\n"
   ]
  },
  {
   "cell_type": "code",
   "execution_count": 23,
   "metadata": {
    "id": "wLXGU9e8u7oK"
   },
   "outputs": [],
   "source": [
    "#Filling missing values\n",
    "\n",
    "numerical_cols = [cols for cols in num if cols not in flag_columns]\n",
    "median = df[numerical_cols].median()\n",
    "df.loc[:,numerical_cols] = df.loc[:,numerical_cols].fillna(median)"
   ]
  },
  {
   "cell_type": "code",
   "execution_count": 24,
   "metadata": {
    "id": "jR23oa9lvkl2"
   },
   "outputs": [],
   "source": [
    "#Filling missing values in our st_metratio column with the mode as it is categorical\n",
    "\n",
    "mode = df['st_metratio'].mode()[0]\n",
    "df.loc[:,nnum] = df.loc[:,nnum].fillna(mode)"
   ]
  },
  {
   "cell_type": "code",
   "execution_count": 25,
   "metadata": {
    "colab": {
     "base_uri": "https://localhost:8080/"
    },
    "id": "teKvh-_-vUH7",
    "outputId": "f1b87610-4f82-43e7-d2c5-41598cad41da"
   },
   "outputs": [
    {
     "data": {
      "text/plain": [
       "Index([], dtype='object')"
      ]
     },
     "execution_count": 25,
     "metadata": {},
     "output_type": "execute_result"
    }
   ],
   "source": [
    "#Checking for missing values in our dataframe\n",
    "\n",
    "df.columns[df.isna().sum() > 0]"
   ]
  },
  {
   "cell_type": "markdown",
   "metadata": {
    "id": "bk8JFZFExv38"
   },
   "source": [
    "<h2>Data Type Conversion</h2>"
   ]
  },
  {
   "cell_type": "markdown",
   "metadata": {
    "id": "o6eZKXwY_xph"
   },
   "source": [
    "Data type conversion are crucial in EDA (Exploratory Data Analysis) as they ensure your data is in the correct format for analysis.\\\n",
    "This allows for better insights from data through accurate visualization and statistical operations."
   ]
  },
  {
   "cell_type": "code",
   "execution_count": 26,
   "metadata": {
    "id": "9A04oUk7CH29"
   },
   "outputs": [],
   "source": [
    "df[flag_columns] = df[flag_columns].astype(\"category\")"
   ]
  },
  {
   "cell_type": "code",
   "execution_count": 27,
   "metadata": {
    "colab": {
     "base_uri": "https://localhost:8080/",
     "height": 554
    },
    "id": "jsYHxsqbDbld",
    "outputId": "07332958-cc39-4ac2-9293-2fc62c580ccb"
   },
   "outputs": [
    {
     "data": {
      "text/plain": [
       "pl_controv_flag    category\n",
       "pl_orbperlim       category\n",
       "pl_orbsmaxlim      category\n",
       "pl_radelim         category\n",
       "pl_radjlim         category\n",
       "pl_bmasselim       category\n",
       "pl_bmassjlim       category\n",
       "pl_orbeccenlim     category\n",
       "pl_insollim        category\n",
       "pl_eqtlim          category\n",
       "st_tefflim         category\n",
       "st_radlim          category\n",
       "st_masslim         category\n",
       "st_metlim          category\n",
       "st_logglim         category\n",
       "dtype: object"
      ]
     },
     "execution_count": 27,
     "metadata": {},
     "output_type": "execute_result"
    }
   ],
   "source": [
    "df[flag_columns].dtypes"
   ]
  },
  {
   "cell_type": "code",
   "execution_count": 28,
   "metadata": {
    "colab": {
     "base_uri": "https://localhost:8080/",
     "height": 424
    },
    "id": "CA2XvtCtIZ_C",
    "outputId": "bf0e9e89-9f0a-441e-db23-7a737c932415"
   },
   "outputs": [
    {
     "data": {
      "text/html": [
       "<div>\n",
       "<style scoped>\n",
       "    .dataframe tbody tr th:only-of-type {\n",
       "        vertical-align: middle;\n",
       "    }\n",
       "\n",
       "    .dataframe tbody tr th {\n",
       "        vertical-align: top;\n",
       "    }\n",
       "\n",
       "    .dataframe thead th {\n",
       "        text-align: right;\n",
       "    }\n",
       "</style>\n",
       "<table border=\"1\" class=\"dataframe\">\n",
       "  <thead>\n",
       "    <tr style=\"text-align: right;\">\n",
       "      <th></th>\n",
       "      <th>pl_name</th>\n",
       "      <th>hostname</th>\n",
       "      <th>sy_snum</th>\n",
       "      <th>sy_pnum</th>\n",
       "      <th>discoverymethod</th>\n",
       "      <th>disc_year</th>\n",
       "      <th>disc_facility</th>\n",
       "      <th>pl_controv_flag</th>\n",
       "      <th>pl_bmassprov</th>\n",
       "      <th>ttv_flag</th>\n",
       "      <th>rastr</th>\n",
       "      <th>ra</th>\n",
       "      <th>decstr</th>\n",
       "      <th>dec</th>\n",
       "    </tr>\n",
       "  </thead>\n",
       "  <tbody>\n",
       "    <tr>\n",
       "      <th>0</th>\n",
       "      <td>11 Com b</td>\n",
       "      <td>11 Com</td>\n",
       "      <td>2</td>\n",
       "      <td>1</td>\n",
       "      <td>Radial Velocity</td>\n",
       "      <td>2007</td>\n",
       "      <td>Xinglong Station</td>\n",
       "      <td>0</td>\n",
       "      <td>Msini</td>\n",
       "      <td>0</td>\n",
       "      <td>12h20m42.91s</td>\n",
       "      <td>185.178779</td>\n",
       "      <td>+17d47m35.71s</td>\n",
       "      <td>17.793252</td>\n",
       "    </tr>\n",
       "    <tr>\n",
       "      <th>1</th>\n",
       "      <td>11 UMi b</td>\n",
       "      <td>11 UMi</td>\n",
       "      <td>1</td>\n",
       "      <td>1</td>\n",
       "      <td>Radial Velocity</td>\n",
       "      <td>2009</td>\n",
       "      <td>Thueringer Landessternwarte Tautenburg</td>\n",
       "      <td>0</td>\n",
       "      <td>Msini</td>\n",
       "      <td>0</td>\n",
       "      <td>15h17m05.90s</td>\n",
       "      <td>229.274595</td>\n",
       "      <td>+71d49m26.19s</td>\n",
       "      <td>71.823943</td>\n",
       "    </tr>\n",
       "    <tr>\n",
       "      <th>2</th>\n",
       "      <td>14 And b</td>\n",
       "      <td>14 And</td>\n",
       "      <td>1</td>\n",
       "      <td>1</td>\n",
       "      <td>Radial Velocity</td>\n",
       "      <td>2008</td>\n",
       "      <td>Okayama Astrophysical Observatory</td>\n",
       "      <td>0</td>\n",
       "      <td>Msini</td>\n",
       "      <td>0</td>\n",
       "      <td>23h31m17.80s</td>\n",
       "      <td>352.824150</td>\n",
       "      <td>+39d14m09.01s</td>\n",
       "      <td>39.235837</td>\n",
       "    </tr>\n",
       "    <tr>\n",
       "      <th>3</th>\n",
       "      <td>14 Her b</td>\n",
       "      <td>14 Her</td>\n",
       "      <td>1</td>\n",
       "      <td>2</td>\n",
       "      <td>Radial Velocity</td>\n",
       "      <td>2002</td>\n",
       "      <td>W. M. Keck Observatory</td>\n",
       "      <td>0</td>\n",
       "      <td>Mass</td>\n",
       "      <td>0</td>\n",
       "      <td>16h10m24.50s</td>\n",
       "      <td>242.602101</td>\n",
       "      <td>+43d48m58.90s</td>\n",
       "      <td>43.816362</td>\n",
       "    </tr>\n",
       "    <tr>\n",
       "      <th>4</th>\n",
       "      <td>16 Cyg B b</td>\n",
       "      <td>16 Cyg B</td>\n",
       "      <td>3</td>\n",
       "      <td>1</td>\n",
       "      <td>Radial Velocity</td>\n",
       "      <td>1996</td>\n",
       "      <td>Multiple Observatories</td>\n",
       "      <td>0</td>\n",
       "      <td>Msini</td>\n",
       "      <td>0</td>\n",
       "      <td>19h41m51.75s</td>\n",
       "      <td>295.465642</td>\n",
       "      <td>+50d31m00.57s</td>\n",
       "      <td>50.516824</td>\n",
       "    </tr>\n",
       "    <tr>\n",
       "      <th>...</th>\n",
       "      <td>...</td>\n",
       "      <td>...</td>\n",
       "      <td>...</td>\n",
       "      <td>...</td>\n",
       "      <td>...</td>\n",
       "      <td>...</td>\n",
       "      <td>...</td>\n",
       "      <td>...</td>\n",
       "      <td>...</td>\n",
       "      <td>...</td>\n",
       "      <td>...</td>\n",
       "      <td>...</td>\n",
       "      <td>...</td>\n",
       "      <td>...</td>\n",
       "    </tr>\n",
       "    <tr>\n",
       "      <th>5829</th>\n",
       "      <td>ups And b</td>\n",
       "      <td>ups And</td>\n",
       "      <td>2</td>\n",
       "      <td>3</td>\n",
       "      <td>Radial Velocity</td>\n",
       "      <td>1996</td>\n",
       "      <td>Lick Observatory</td>\n",
       "      <td>0</td>\n",
       "      <td>Msini</td>\n",
       "      <td>0</td>\n",
       "      <td>01h36m47.60s</td>\n",
       "      <td>24.198353</td>\n",
       "      <td>+41d24m13.73s</td>\n",
       "      <td>41.403815</td>\n",
       "    </tr>\n",
       "    <tr>\n",
       "      <th>5830</th>\n",
       "      <td>ups And c</td>\n",
       "      <td>ups And</td>\n",
       "      <td>2</td>\n",
       "      <td>3</td>\n",
       "      <td>Radial Velocity</td>\n",
       "      <td>1999</td>\n",
       "      <td>Multiple Observatories</td>\n",
       "      <td>0</td>\n",
       "      <td>Mass</td>\n",
       "      <td>0</td>\n",
       "      <td>01h36m47.60s</td>\n",
       "      <td>24.198353</td>\n",
       "      <td>+41d24m13.73s</td>\n",
       "      <td>41.403815</td>\n",
       "    </tr>\n",
       "    <tr>\n",
       "      <th>5831</th>\n",
       "      <td>ups And d</td>\n",
       "      <td>ups And</td>\n",
       "      <td>2</td>\n",
       "      <td>3</td>\n",
       "      <td>Radial Velocity</td>\n",
       "      <td>1999</td>\n",
       "      <td>Multiple Observatories</td>\n",
       "      <td>0</td>\n",
       "      <td>Mass</td>\n",
       "      <td>0</td>\n",
       "      <td>01h36m47.60s</td>\n",
       "      <td>24.198353</td>\n",
       "      <td>+41d24m13.73s</td>\n",
       "      <td>41.403815</td>\n",
       "    </tr>\n",
       "    <tr>\n",
       "      <th>5832</th>\n",
       "      <td>ups Leo b</td>\n",
       "      <td>ups Leo</td>\n",
       "      <td>1</td>\n",
       "      <td>1</td>\n",
       "      <td>Radial Velocity</td>\n",
       "      <td>2021</td>\n",
       "      <td>Okayama Astrophysical Observatory</td>\n",
       "      <td>0</td>\n",
       "      <td>Msini</td>\n",
       "      <td>0</td>\n",
       "      <td>11h36m56.93s</td>\n",
       "      <td>174.237219</td>\n",
       "      <td>-00d49m24.83s</td>\n",
       "      <td>-0.823564</td>\n",
       "    </tr>\n",
       "    <tr>\n",
       "      <th>5833</th>\n",
       "      <td>xi Aql b</td>\n",
       "      <td>xi Aql</td>\n",
       "      <td>1</td>\n",
       "      <td>1</td>\n",
       "      <td>Radial Velocity</td>\n",
       "      <td>2007</td>\n",
       "      <td>Okayama Astrophysical Observatory</td>\n",
       "      <td>0</td>\n",
       "      <td>Msini</td>\n",
       "      <td>0</td>\n",
       "      <td>19h54m14.99s</td>\n",
       "      <td>298.562449</td>\n",
       "      <td>+08d27m39.98s</td>\n",
       "      <td>8.461105</td>\n",
       "    </tr>\n",
       "  </tbody>\n",
       "</table>\n",
       "<p>5834 rows × 14 columns</p>\n",
       "</div>"
      ],
      "text/plain": [
       "         pl_name  hostname  sy_snum  sy_pnum  discoverymethod  disc_year  \\\n",
       "0       11 Com b    11 Com        2        1  Radial Velocity       2007   \n",
       "1       11 UMi b    11 UMi        1        1  Radial Velocity       2009   \n",
       "2       14 And b    14 And        1        1  Radial Velocity       2008   \n",
       "3       14 Her b    14 Her        1        2  Radial Velocity       2002   \n",
       "4     16 Cyg B b  16 Cyg B        3        1  Radial Velocity       1996   \n",
       "...          ...       ...      ...      ...              ...        ...   \n",
       "5829   ups And b   ups And        2        3  Radial Velocity       1996   \n",
       "5830   ups And c   ups And        2        3  Radial Velocity       1999   \n",
       "5831   ups And d   ups And        2        3  Radial Velocity       1999   \n",
       "5832   ups Leo b   ups Leo        1        1  Radial Velocity       2021   \n",
       "5833    xi Aql b    xi Aql        1        1  Radial Velocity       2007   \n",
       "\n",
       "                               disc_facility pl_controv_flag pl_bmassprov  \\\n",
       "0                           Xinglong Station               0        Msini   \n",
       "1     Thueringer Landessternwarte Tautenburg               0        Msini   \n",
       "2          Okayama Astrophysical Observatory               0        Msini   \n",
       "3                     W. M. Keck Observatory               0         Mass   \n",
       "4                     Multiple Observatories               0        Msini   \n",
       "...                                      ...             ...          ...   \n",
       "5829                        Lick Observatory               0        Msini   \n",
       "5830                  Multiple Observatories               0         Mass   \n",
       "5831                  Multiple Observatories               0         Mass   \n",
       "5832       Okayama Astrophysical Observatory               0        Msini   \n",
       "5833       Okayama Astrophysical Observatory               0        Msini   \n",
       "\n",
       "      ttv_flag         rastr          ra         decstr        dec  \n",
       "0            0  12h20m42.91s  185.178779  +17d47m35.71s  17.793252  \n",
       "1            0  15h17m05.90s  229.274595  +71d49m26.19s  71.823943  \n",
       "2            0  23h31m17.80s  352.824150  +39d14m09.01s  39.235837  \n",
       "3            0  16h10m24.50s  242.602101  +43d48m58.90s  43.816362  \n",
       "4            0  19h41m51.75s  295.465642  +50d31m00.57s  50.516824  \n",
       "...        ...           ...         ...            ...        ...  \n",
       "5829         0  01h36m47.60s   24.198353  +41d24m13.73s  41.403815  \n",
       "5830         0  01h36m47.60s   24.198353  +41d24m13.73s  41.403815  \n",
       "5831         0  01h36m47.60s   24.198353  +41d24m13.73s  41.403815  \n",
       "5832         0  11h36m56.93s  174.237219  -00d49m24.83s  -0.823564  \n",
       "5833         0  19h54m14.99s  298.562449  +08d27m39.98s   8.461105  \n",
       "\n",
       "[5834 rows x 14 columns]"
      ]
     },
     "execution_count": 28,
     "metadata": {},
     "output_type": "execute_result"
    }
   ],
   "source": [
    "df[full_columns]"
   ]
  },
  {
   "cell_type": "code",
   "execution_count": 29,
   "metadata": {
    "id": "ke8NHsiNIh-F"
   },
   "outputs": [],
   "source": [
    "df[['pl_bmassprov','discoverymethod','disc_facility']] = df[['pl_bmassprov','discoverymethod','disc_facility']].astype(\"category\")"
   ]
  },
  {
   "cell_type": "code",
   "execution_count": 30,
   "metadata": {
    "id": "-SS2d9PtI2_R"
   },
   "outputs": [],
   "source": [
    "#Changing disc_year to datetime\n",
    "\n",
    "df['disc_year'] = pd.to_datetime(df['disc_year'],format=\"%Y\").dt.year"
   ]
  },
  {
   "cell_type": "markdown",
   "metadata": {
    "id": "d1LVWR6GJn0L"
   },
   "source": [
    "<h2>Feature Engineering</h2>"
   ]
  },
  {
   "cell_type": "markdown",
   "metadata": {
    "id": "qAZvh8eqLXeu"
   },
   "source": [
    "Firstly we'll be dropping flag coluns as they do not contribute as a statistically significant feature to the overall analysis"
   ]
  },
  {
   "cell_type": "code",
   "execution_count": 31,
   "metadata": {
    "colab": {
     "base_uri": "https://localhost:8080/"
    },
    "id": "BgDlXSTgOpos",
    "outputId": "501fe12c-448d-46f6-af21-fc0493f219f5"
   },
   "outputs": [
    {
     "data": {
      "text/plain": [
       "['pl_controv_flag',\n",
       " 'pl_orbperlim',\n",
       " 'pl_orbsmaxlim',\n",
       " 'pl_radelim',\n",
       " 'pl_radjlim',\n",
       " 'pl_bmasselim',\n",
       " 'pl_bmassjlim',\n",
       " 'pl_orbeccenlim',\n",
       " 'pl_insollim',\n",
       " 'pl_eqtlim',\n",
       " 'st_tefflim',\n",
       " 'st_radlim',\n",
       " 'st_masslim',\n",
       " 'st_metlim',\n",
       " 'st_logglim',\n",
       " 'pl_controv_flag',\n",
       " 'ttv_flag']"
      ]
     },
     "execution_count": 31,
     "metadata": {},
     "output_type": "execute_result"
    }
   ],
   "source": [
    "#Add flag columns to drop\n",
    "\n",
    "flag_columns.extend(['pl_controv_flag','ttv_flag'])\n",
    "flag_columns\n"
   ]
  },
  {
   "cell_type": "code",
   "execution_count": 32,
   "metadata": {
    "id": "kr-e0RgwPriY"
   },
   "outputs": [],
   "source": [
    "#Drop flag columns\n",
    "df = df.drop(columns=flag_columns)"
   ]
  },
  {
   "cell_type": "markdown",
   "metadata": {
    "id": "Ey2t_wv-T_KN"
   },
   "source": [
    "RA and Dec in sexagesimal (rastr, decstr) are often used in astronomy for easier human readability but are less convenient for analysis.\\\n",
    "Therefore we'll drop these columns too."
   ]
  },
  {
   "cell_type": "code",
   "execution_count": 33,
   "metadata": {
    "id": "as57Fi14UcaV"
   },
   "outputs": [],
   "source": [
    "df = df.drop(columns=['rastr', 'decstr'])"
   ]
  },
  {
   "cell_type": "code",
   "execution_count": 34,
   "metadata": {
    "colab": {
     "base_uri": "https://localhost:8080/"
    },
    "id": "xu-QN1qhUqeQ",
    "outputId": "101e3490-485d-47c1-e5d2-98bce8f4f02f"
   },
   "outputs": [
    {
     "data": {
      "text/plain": [
       "Index(['pl_name', 'hostname', 'sy_snum', 'sy_pnum', 'discoverymethod',\n",
       "       'disc_year', 'disc_facility', 'pl_orbper', 'pl_orbpererr1',\n",
       "       'pl_orbpererr2', 'pl_orbsmax', 'pl_orbsmaxerr1', 'pl_orbsmaxerr2',\n",
       "       'pl_rade', 'pl_radeerr1', 'pl_radeerr2', 'pl_radj', 'pl_radjerr1',\n",
       "       'pl_radjerr2', 'pl_bmasse', 'pl_bmassj', 'pl_bmassprov', 'pl_orbeccen',\n",
       "       'pl_insol', 'pl_eqt', 'st_teff', 'st_tefferr1', 'st_tefferr2', 'st_rad',\n",
       "       'st_raderr1', 'st_raderr2', 'st_mass', 'st_masserr1', 'st_masserr2',\n",
       "       'st_met', 'st_meterr1', 'st_meterr2', 'st_metratio', 'st_logg',\n",
       "       'st_loggerr1', 'st_loggerr2', 'ra', 'dec', 'sy_dist', 'sy_disterr1',\n",
       "       'sy_disterr2', 'sy_vmag', 'sy_vmagerr1', 'sy_vmagerr2', 'sy_kmag',\n",
       "       'sy_kmagerr1', 'sy_kmagerr2', 'sy_gaiamag', 'sy_gaiamagerr1',\n",
       "       'sy_gaiamagerr2'],\n",
       "      dtype='object')"
      ]
     },
     "execution_count": 34,
     "metadata": {},
     "output_type": "execute_result"
    }
   ],
   "source": [
    "df.columns"
   ]
  },
  {
   "cell_type": "markdown",
   "metadata": {
    "id": "0Jdi1FVgdJbN"
   },
   "source": [
    "**Feature Reduction**\\\n",
    " Removing highly correlated variables to avoid multicollinearity"
   ]
  },
  {
   "cell_type": "code",
   "execution_count": 35,
   "metadata": {
    "colab": {
     "base_uri": "https://localhost:8080/",
     "height": 780
    },
    "id": "d4L7rIWYeMxx",
    "outputId": "54ec096d-176d-4918-cee1-cf45088c6864"
   },
   "outputs": [
    {
     "data": {
      "image/png": "[encoded data removed]",
      "text/plain": [
       "<Figure size 1000x800 with 2 Axes>"
      ]
     },
     "metadata": {},
     "output_type": "display_data"
    }
   ],
   "source": [
    "correlation_matrix = df.corr(numeric_only=True)\n",
    "\n",
    "plt.figure(figsize= (10,8))\n",
    "sns.heatmap(correlation_matrix,cmap='coolwarm',)\n",
    "plt.show()"
   ]
  },
  {
   "cell_type": "code",
   "execution_count": 36,
   "metadata": {
    "colab": {
     "base_uri": "https://localhost:8080/"
    },
    "id": "3fp6kzMLgjZb",
    "outputId": "f0a6809e-e02a-49db-e98a-cdaded0d1101"
   },
   "outputs": [
    {
     "data": {
      "text/plain": [
       "[('pl_orbper', 'pl_orbpererr1', 0.9997296945395726),\n",
       " ('pl_orbper', 'pl_orbpererr2', -0.999381938422119),\n",
       " ('pl_orbper', 'pl_orbsmaxerr1', 0.9978301895824252),\n",
       " ('pl_orbper', 'pl_orbsmaxerr2', -0.9872662182500362),\n",
       " ('pl_orbpererr1', 'pl_orbper', 0.9997296945395726),\n",
       " ('pl_orbpererr1', 'pl_orbpererr2', -0.998996780703272),\n",
       " ('pl_orbpererr1', 'pl_orbsmaxerr1', 0.9979462544967804),\n",
       " ('pl_orbpererr1', 'pl_orbsmaxerr2', -0.9867613218374379),\n",
       " ('pl_orbpererr2', 'pl_orbper', -0.999381938422119),\n",
       " ('pl_orbpererr2', 'pl_orbpererr1', -0.998996780703272),\n",
       " ('pl_orbpererr2', 'pl_orbsmaxerr1', -0.9975278442572488),\n",
       " ('pl_orbpererr2', 'pl_orbsmaxerr2', 0.9885499241809688),\n",
       " ('pl_orbsmaxerr1', 'pl_orbper', 0.9978301895824252),\n",
       " ('pl_orbsmaxerr1', 'pl_orbpererr1', 0.9979462544967804),\n",
       " ('pl_orbsmaxerr1', 'pl_orbpererr2', -0.9975278442572488),\n",
       " ('pl_orbsmaxerr1', 'pl_orbsmaxerr2', -0.99473599763427),\n",
       " ('pl_orbsmaxerr2', 'pl_orbper', -0.9872662182500362),\n",
       " ('pl_orbsmaxerr2', 'pl_orbpererr1', -0.9867613218374379),\n",
       " ('pl_orbsmaxerr2', 'pl_orbpererr2', 0.9885499241809688),\n",
       " ('pl_orbsmaxerr2', 'pl_orbsmaxerr1', -0.99473599763427),\n",
       " ('pl_rade', 'pl_radj', 0.999992033778275),\n",
       " ('pl_radeerr1', 'pl_radjerr1', 0.9999932775906939),\n",
       " ('pl_radeerr2', 'pl_radjerr2', 0.9999655152550627),\n",
       " ('pl_radj', 'pl_rade', 0.999992033778275),\n",
       " ('pl_radjerr1', 'pl_radeerr1', 0.9999932775906939),\n",
       " ('pl_radjerr2', 'pl_radeerr2', 0.9999655152550627),\n",
       " ('pl_bmasse', 'pl_bmassj', 0.9999753138244529),\n",
       " ('pl_bmassj', 'pl_bmasse', 0.9999753138244529),\n",
       " ('st_masserr1', 'st_masserr2', -0.9925685875631217),\n",
       " ('st_masserr2', 'st_masserr1', -0.9925685875631217),\n",
       " ('sy_disterr1', 'sy_disterr2', -0.9587498204997403),\n",
       " ('sy_disterr2', 'sy_disterr1', -0.9587498204997403),\n",
       " ('sy_vmag', 'sy_gaiamag', 0.9617977671942043),\n",
       " ('sy_kmagerr1', 'sy_kmagerr2', -0.9888343216873066),\n",
       " ('sy_kmagerr2', 'sy_kmagerr1', -0.9888343216873066),\n",
       " ('sy_gaiamag', 'sy_vmag', 0.9617977671942043),\n",
       " ('sy_gaiamagerr1', 'sy_gaiamagerr2', -1.0),\n",
       " ('sy_gaiamagerr2', 'sy_gaiamagerr1', -1.0)]"
      ]
     },
     "execution_count": 36,
     "metadata": {},
     "output_type": "execute_result"
    }
   ],
   "source": [
    "#Get highly correlated or negatively correlated columns\n",
    "threshold = 0.95\n",
    "\n",
    "high_corr = correlation_matrix[(correlation_matrix > threshold) | (correlation_matrix < -threshold)]\n",
    "\n",
    "high_corr_columns_stack = high_corr.stack()\n",
    "high_corr_columns_index = high_corr_columns_stack.index.to_list()\n",
    "high_corr_columns_values = high_corr_columns_stack.values\n",
    "\n",
    "high_corr_columns = list(zip(high_corr_columns_index,high_corr_columns_values))\n",
    "\n",
    "high_corr_columns\n",
    "high_corr_columns = [(col1,col2,val) for ((col1,col2),val) in high_corr_columns if col1 != col2]\n",
    "high_corr_columns\n"
   ]
  },
  {
   "cell_type": "markdown",
   "metadata": {
    "id": "9_iPJ-wUlhMr"
   },
   "source": [
    "The above columns are some examples of highly correlated features which may be omitted to **avoid multicolinearity**.\\\n",
    "Our focus is a more cleaner and less redundant EDA"
   ]
  },
  {
   "cell_type": "code",
   "execution_count": 37,
   "metadata": {
    "id": "kSWR7laOl1JD"
   },
   "outputs": [],
   "source": [
    "#highly correlated columns to remove\n",
    "\n",
    "columns_to_remove = [\n",
    "    'pl_orbpererr1', 'pl_orbpererr2',\n",
    "    'pl_orbsmaxerr1', 'pl_orbsmaxerr2',\n",
    "    'pl_radeerr1', 'pl_radeerr2',\n",
    "    'pl_radjerr1', 'pl_radjerr2',\n",
    "    'st_masserr1', 'st_masserr2',\n",
    "    'sy_disterr1', 'sy_disterr2',\n",
    "    'sy_vmagerr1', 'sy_vmagerr2',\n",
    "    'sy_kmagerr1', 'sy_kmagerr2',\n",
    "    'sy_gaiamagerr1', 'sy_gaiamagerr2',\n",
    "    'pl_bmasse', 'pl_bmassj',\n",
    "    'sy_vmag', 'sy_gaiamag',\n",
    "]"
   ]
  },
  {
   "cell_type": "code",
   "execution_count": 38,
   "metadata": {
    "id": "sRVGc9UgnXdx"
   },
   "outputs": [],
   "source": [
    "df = df.drop(columns=columns_to_remove)"
   ]
  },
  {
   "cell_type": "markdown",
   "metadata": {
    "id": "Phcl6KT8neoV"
   },
   "source": [
    "We can also drop error related and redundant columns"
   ]
  },
  {
   "cell_type": "code",
   "execution_count": 39,
   "metadata": {
    "id": "zbSf5G-lqaEg"
   },
   "outputs": [],
   "source": [
    "err_related_cols = ['st_tefferr1', 'st_tefferr2']\n",
    "\n",
    "df = df.drop(columns=err_related_cols)"
   ]
  },
  {
   "cell_type": "code",
   "execution_count": 40,
   "metadata": {
    "id": "P3EK73uCq2Ta"
   },
   "outputs": [],
   "source": [
    "#Add a 'years_since_discovery' column\n",
    "\n",
    "DATASET_YEAR = 2025\n",
    "df['years_since_discovery'] = (DATASET_YEAR - df['disc_year']).astype(\"int64\")"
   ]
  },
  {
   "cell_type": "markdown",
   "metadata": {
    "id": "04Anl48lrmDc"
   },
   "source": [
    "Add a **luminosity** column in our dataset:\n",
    "\n",
    "<h3>L = 4πσR<sup>2</sup>T<sup>4</sup></h3>\n",
    "\n",
    "Where:\\\n",
    "𝐿 is the luminosity,\\\n",
    "𝑅 is the radius of the star,\\\n",
    "𝑇 is the effective temperature (in Kelvin),\\\n",
    "𝜎 is the Stefan-Boltzmann constant.\n",
    "\n",
    "Luminosity helps quantify how much energy the star is emitting, crucial for understanding its life cycle, stability and behaviour.\n",
    "\n",
    "The luminosity of a star is critical for determining the <u>habitable zone</u> around the start as well as the climate of the exoplanets around it.\n"
   ]
  },
  {
   "cell_type": "code",
   "execution_count": 41,
   "metadata": {
    "colab": {
     "base_uri": "https://localhost:8080/",
     "height": 458
    },
    "id": "2pR8zXGSuoX_",
    "outputId": "33cc8f37-35d8-469f-a7ef-cc56faf0bc80"
   },
   "outputs": [
    {
     "data": {
      "text/plain": [
       "0       7.613282e+10\n",
       "1       1.992048e+11\n",
       "2       5.426024e+10\n",
       "3       5.003491e+08\n",
       "4       9.945376e+08\n",
       "            ...     \n",
       "5829    2.491460e+09\n",
       "5830    2.491460e+09\n",
       "5831    2.491460e+09\n",
       "5832    4.905958e+10\n",
       "5833    4.615225e+10\n",
       "Name: luminosity, Length: 5834, dtype: float64"
      ]
     },
     "execution_count": 41,
     "metadata": {},
     "output_type": "execute_result"
    }
   ],
   "source": [
    "STEFAN_BOLTZMANN_CONSTANT = 5.67e-8\n",
    "\n",
    "df['luminosity'] = 4*np.pi*STEFAN_BOLTZMANN_CONSTANT*(df['st_teff']**4)*(df['st_rad']**2)\n",
    "df['luminosity']"
   ]
  }
 ],
 "metadata": {
  "colab": {
   "provenance": []
  },
  "kernelspec": {
   "display_name": "Python 3 (ipykernel)",
   "language": "python",
   "name": "python3"
  },
  "language_info": {
   "codemirror_mode": {
    "name": "ipython",
    "version": 3
   },
   "file_extension": ".py",
   "mimetype": "text/x-python",
   "name": "python",
   "nbconvert_exporter": "python",
   "pygments_lexer": "ipython3",
   "version": "3.9.9"
  }
 },
 "nbformat": 4,
 "nbformat_minor": 4
}
